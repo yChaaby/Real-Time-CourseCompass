import pandas as pd
import random


data1 = pd.read_csv("reste_des_formations_3.csv")


data1


formateurs = data1['FORMATEUR'].unique()


formateurs = pd.DataFrame(formateurs)


formateurs['FORMATEUR'] = formateurs[0]


formateurs = formateurs[['FORMATEUR']]


max_id = 1165


formateurs


formateurs


len(list)


start = 100000000
end = 799999999
data1['Telephone'] =  ["0" + str(random.randint(start, end)) for f in data1.FORMATEUR]


datatemp = pd.read_csv("/Users/youssefchaabi/formateurs2.0.csv")


df1_not_in_df2 = formateurs[~formateurs['FORMATEUR'].isin(datatemp['NOM_FORMATEUR'])]


df1_not_in_df2


df1_not_in_df2['ID_FORMATEUR'] = range(max_id+1, max_id+1 + len(df1_not_in_df2))


df1_not_in_df2


for index, row in df1_not_in_df2.iterrows():
    # Ensure that the ID_FORMATEUR is an integer and FORMATEUR is a string
    # Safely format the SQL query with string formatting
    sql_query = f"INSERT INTO FORMATEURS VALUES ({row['ID_FORMATEUR']}, '{row['FORMATEUR']}');"
    print(sql_query)


"""INSERT INTO table2 (table1_id)
VALUES (
    (SELECT id
     FROM table1
     WHERE name = 'SomeName')
);"""


for idx1, row in data1.iterrows():
    query = ("INSERT INTO FORMER(ID_FORMATION, ID_FORMATEUR, ADRESSE, TELEPHONE, SITE_WEB) VALUES ("
             +str(row["ID_FORMATION"])
             +","+ "(SELECT ID_FORMATEUR FROM FORMATEURS WHERE NOM_FORMATEUR='"+str(row["FORMATEUR"]).replace("&","")+"'),"
             +"'en ligne','"+row["Telephone"]+"',"+"'https://www.coursera.org"+row["LIENS"]+"');"
            
            )
    
    print(query)


data8 = pd.read_csv("/Users/youssefchaabi/data_formation_after_shower.csv")


data8 = data8[["ID_FORMATION","KEYWORDS"]]


data8


for idx, row in data8.iterrows():
    query = f"""UPDATE FORMATION SET KEYWORDS={row["KEYWORDS"]}
    
    """



