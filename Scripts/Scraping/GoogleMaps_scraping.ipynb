{
 "cells": [
  {
   "cell_type": "code",
   "execution_count": null,
   "id": "initial_id",
   "metadata": {
    "ExecuteTime": {
     "end_time": "2024-10-29T20:54:27.179670Z",
     "start_time": "2024-10-29T20:54:26.680510Z"
    },
    "collapsed": true
   },
   "outputs": [
    {
     "data": {
      "text/html": [
       "<div>\n",
       "<style scoped>\n",
       "    .dataframe tbody tr th:only-of-type {\n",
       "        vertical-align: middle;\n",
       "    }\n",
       "\n",
       "    .dataframe tbody tr th {\n",
       "        vertical-align: top;\n",
       "    }\n",
       "\n",
       "    .dataframe thead th {\n",
       "        text-align: right;\n",
       "    }\n",
       "</style>\n",
       "<table border=\"1\" class=\"dataframe\">\n",
       "  <thead>\n",
       "    <tr style=\"text-align: right;\">\n",
       "      <th></th>\n",
       "      <th>ID_FORMATION</th>\n",
       "      <th>DOMAINE_CATGEGORIE</th>\n",
       "      <th>SOUS_DOMAINE_CATEGORIE</th>\n",
       "      <th>FORMATION_COURS</th>\n",
       "    </tr>\n",
       "  </thead>\n",
       "  <tbody>\n",
       "    <tr>\n",
       "      <th>0</th>\n",
       "      <td>1</td>\n",
       "      <td>Achats</td>\n",
       "      <td>Management et métiers des achats</td>\n",
       "      <td>Responsable Achats</td>\n",
       "    </tr>\n",
       "    <tr>\n",
       "      <th>1</th>\n",
       "      <td>2</td>\n",
       "      <td>Achats</td>\n",
       "      <td>Management et métiers des achats</td>\n",
       "      <td>Management opérationnel des achats</td>\n",
       "    </tr>\n",
       "    <tr>\n",
       "      <th>2</th>\n",
       "      <td>3</td>\n",
       "      <td>Achats</td>\n",
       "      <td>Management et métiers des achats</td>\n",
       "      <td>Formation au métier d'acheteur</td>\n",
       "    </tr>\n",
       "    <tr>\n",
       "      <th>3</th>\n",
       "      <td>4</td>\n",
       "      <td>Achats</td>\n",
       "      <td>Management et métiers des achats</td>\n",
       "      <td>Formation pratique à l'achat</td>\n",
       "    </tr>\n",
       "    <tr>\n",
       "      <th>4</th>\n",
       "      <td>5</td>\n",
       "      <td>Achats</td>\n",
       "      <td>Management et métiers des achats</td>\n",
       "      <td>Formation assistant achat</td>\n",
       "    </tr>\n",
       "  </tbody>\n",
       "</table>\n",
       "</div>"
      ],
      "text/plain": [
       "   ID_FORMATION DOMAINE_CATGEGORIE            SOUS_DOMAINE_CATEGORIE  \\\n",
       "0             1             Achats  Management et métiers des achats   \n",
       "1             2             Achats  Management et métiers des achats   \n",
       "2             3             Achats  Management et métiers des achats   \n",
       "3             4             Achats  Management et métiers des achats   \n",
       "4             5             Achats  Management et métiers des achats   \n",
       "\n",
       "                       FORMATION_COURS  \n",
       "0                  Responsable Achats   \n",
       "1  Management opérationnel des achats   \n",
       "2      Formation au métier d'acheteur   \n",
       "3        Formation pratique à l'achat   \n",
       "4           Formation assistant achat   "
      ]
     },
     "execution_count": 67,
     "metadata": {},
     "output_type": "execute_result"
    }
   ],
   "source": [
    "import pandas as pd\n",
    "\n",
    "# Load and inspect the uploaded file to understand its structure and sample data\n",
    "file_path = r\"Formations_Cours.csv\"\n",
    "courses_df = pd.read_csv(file_path)\n",
    "courses_df.head()         "
   ]
  },
  {
   "cell_type": "markdown",
   "id": "cef0468268c59358",
   "metadata": {},
   "source": [
    "Upload excel file of city and fromation:"
   ]
  },
  {
   "cell_type": "code",
   "execution_count": null,
   "id": "f71708bc209cfad1",
   "metadata": {
    "ExecuteTime": {
     "end_time": "2024-10-29T19:57:05.201168Z",
     "start_time": "2024-10-29T19:57:05.149679Z"
    }
   },
   "outputs": [
    {
     "data": {
      "text/html": [
       "<div>\n",
       "<style scoped>\n",
       "    .dataframe tbody tr th:only-of-type {\n",
       "        vertical-align: middle;\n",
       "    }\n",
       "\n",
       "    .dataframe tbody tr th {\n",
       "        vertical-align: top;\n",
       "    }\n",
       "\n",
       "    .dataframe thead th {\n",
       "        text-align: right;\n",
       "    }\n",
       "</style>\n",
       "<table border=\"1\" class=\"dataframe\">\n",
       "  <thead>\n",
       "    <tr style=\"text-align: right;\">\n",
       "      <th></th>\n",
       "      <th>Nom</th>\n",
       "    </tr>\n",
       "  </thead>\n",
       "  <tbody>\n",
       "    <tr>\n",
       "      <th>0</th>\n",
       "      <td>Aix-en-Provence</td>\n",
       "    </tr>\n",
       "    <tr>\n",
       "      <th>1</th>\n",
       "      <td>Amiens</td>\n",
       "    </tr>\n",
       "    <tr>\n",
       "      <th>2</th>\n",
       "      <td>Angers</td>\n",
       "    </tr>\n",
       "    <tr>\n",
       "      <th>3</th>\n",
       "      <td>Annecy</td>\n",
       "    </tr>\n",
       "    <tr>\n",
       "      <th>4</th>\n",
       "      <td>Argenteuil</td>\n",
       "    </tr>\n",
       "  </tbody>\n",
       "</table>\n",
       "</div>"
      ],
      "text/plain": [
       "               Nom\n",
       "0  Aix-en-Provence\n",
       "1           Amiens\n",
       "2           Angers\n",
       "3           Annecy\n",
       "4       Argenteuil"
      ]
     },
     "execution_count": 62,
     "metadata": {},
     "output_type": "execute_result"
    }
   ],
   "source": [
    "city_file_path = r\"City.csv\"\n",
    "cities_df = pd.read_csv(city_file_path , encoding='ISO-8859-1')\n",
    "cities_df.head()"
   ]
  },
  {
   "cell_type": "markdown",
   "id": "8296dcbd",
   "metadata": {},
   "source": [
    "Google Map searching and webscraping "
   ]
  },
  {
   "cell_type": "code",
   "execution_count": null,
   "id": "69ced06834e6e08f",
   "metadata": {
    "ExecuteTime": {
     "end_time": "2024-10-30T03:01:33.588930Z",
     "start_time": "2024-10-29T23:07:06.974549Z"
    }
   },
   "outputs": [
    {
     "name": "stdout",
     "output_type": "stream",
     "text": [
      "Cookies accepted.\n"
     ]
    }
   ],
   "source": [
    "from selenium.webdriver.chrome.service import Service\n",
    "from selenium.webdriver.common.by import By\n",
    "from selenium.webdriver.support.ui import WebDriverWait\n",
    "from selenium.webdriver.support import expected_conditions as EC\n",
    "from selenium import webdriver\n",
    "import pandas as pd\n",
    "import time\n",
    "import pandas as pd\n",
    "     \n",
    "\n",
    "path = '/Users/yhema/Downloads/chromedriver-win64/chromedriver-win64/chromedriver.exe'\n",
    "service = Service(executable_path=path)\n",
    "driver = webdriver.Chrome(service=service)\n",
    "\n",
    "results = []\n",
    "cookies_accepted = False  # Flag to check if cookies were accepted\n",
    "\n",
    "for course in courses_df['FORMATION_COURS']:    \n",
    "    formation = f'https://www.google.fr/maps/search/Formation+{course.replace(\" \", \"+\")}/'\n",
    "\n",
    "    driver.get(formation)\n",
    "\n",
    "    # Accept cookies only once\n",
    "    if not cookies_accepted:\n",
    "        accept_button_xpaths = [\n",
    "            '//button[contains(text(),\"Accept\")]',\n",
    "            '//button[contains(text(),\"I agree\")]',\n",
    "            '//button[contains(text(),\"Tout accepter\")]',  # for French\n",
    "            '//button[contains(@aria-label, \"Tout accepter\")]'\n",
    "        ]\n",
    "        \n",
    "        # Try to locate and click the \"Accept\" cookies button\n",
    "        for xpath in accept_button_xpaths:\n",
    "            try:\n",
    "                accept_button = WebDriverWait(driver, 10).until(\n",
    "                    EC.element_to_be_clickable((By.XPATH, xpath))\n",
    "                )\n",
    "                accept_button.click()\n",
    "                print(\"Cookies accepted.\")\n",
    "                cookies_accepted = True  # Set flag to True after clicking\n",
    "                break\n",
    "            except Exception as e:\n",
    "                pass  # If no button found, continue\n",
    "    \n",
    "    # Extract elements containing the company names from aria-label attribute\n",
    "    companies = driver.find_elements(By.XPATH, '//a[contains(@class,\"hfpxzc\")]')\n",
    "    \n",
    "    for company in companies:\n",
    "        company_name = company.get_attribute(\"aria-label\")\n",
    "        \n",
    " \n",
    "        try:\n",
    "            # Click on the company to reveal more details\n",
    "            try:\n",
    "                company.click()\n",
    "                # Small delay to allow the content to load\n",
    "                time.sleep(1)\n",
    "            except Exception:\n",
    "                print(\"Click on company element failed.\")\n",
    "\n",
    "            # Wait for the address element with `Io6YTe` class to load\n",
    "            WebDriverWait(driver, 10).until(\n",
    "                EC.presence_of_element_located((By.CLASS_NAME, \"Io6YTe\"))\n",
    "            )\n",
    "            \n",
    "            # Extract the address after clicking\n",
    "            address_element = driver.find_element(By.CLASS_NAME, \"Io6YTe\")\n",
    "            address = address_element.text\n",
    "        except Exception:\n",
    "            address = \"N/A\" \n",
    "            \n",
    "            \n",
    "        try:\n",
    "            additional_info = company.find_element(By.XPATH, './/ancestor::div[contains(@class,\"Nv2PK\")]//span[contains(@class,\"UsdlK\")]')\n",
    "            additional_info_text = additional_info.text\n",
    "        except Exception:\n",
    "            additional_info_text = \"N/A\"  # In case UsdlK info is not found\n",
    "            \n",
    "        try:\n",
    "            website_link = company.find_element(By.XPATH, './/ancestor::div[contains(@class,\"Nv2PK\")]//a[contains(@class,\"S9kvJb\")]').get_attribute(\"href\")\n",
    "        except Exception:\n",
    "            website_link = \"N/A\"\n",
    "\n",
    "        # Append data to results\n",
    "        results.append({\n",
    "            'Course': course,\n",
    "            'Company Name': company_name,\n",
    "            'Address': address,\n",
    "            'Additional Info': additional_info_text,\n",
    "            'Website': website_link\n",
    "        })\n",
    "\n",
    "# Quit the driver after scraping\n",
    "driver.quit()\n",
    "\n",
    "# Convert results to DataFrame and save as CSV\n",
    "results_df = pd.DataFrame(results)\n",
    "results_df.to_csv('output2_results.csv', index=False)\n"
   ]
  }
 ],
 "metadata": {
  "kernelspec": {
   "display_name": "Python 3",
   "language": "python",
   "name": "python3"
  },
  "language_info": {
   "codemirror_mode": {
    "name": "ipython",
    "version": 2
   },
   "file_extension": ".py",
   "mimetype": "text/x-python",
   "name": "python",
   "nbconvert_exporter": "python",
   "pygments_lexer": "ipython2",
   "version": "2.7.6"
  }
 },
 "nbformat": 4,
 "nbformat_minor": 5
}
