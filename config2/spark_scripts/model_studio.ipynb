{
 "cells": [
  {
   "cell_type": "code",
   "execution_count": 138,
   "id": "fcfb0481-f085-4af4-9327-540a01f9d73f",
   "metadata": {},
   "outputs": [],
   "source": [
    "from pyspark.sql import SparkSession\n",
    "from pyspark.sql.functions import concat, col, concat_ws, udf, lower, regexp_replace\n",
    "from pyspark.ml.feature import Tokenizer, StopWordsRemover, HashingTF, IDF\n",
    "from pyspark.ml import Pipeline\n",
    "from nltk.corpus import stopwords\n",
    "from pyspark.sql.types import StringType,StructType, ArrayType\n",
    "from nltk.stem.snowball import SnowballStemmer"
   ]
  },
  {
   "cell_type": "code",
   "execution_count": 44,
   "id": "c4237265",
   "metadata": {},
   "outputs": [],
   "source": [
    "spark = SparkSession.builder \\\n",
    "                    .appName(\"Model_studio\") \\\n",
    "                    .getOrCreate()"
   ]
  },
  {
   "cell_type": "code",
   "execution_count": 175,
   "id": "b7a5e22c",
   "metadata": {},
   "outputs": [],
   "source": [
    "df = spark.read.csv(\"./courses.csv\", header=True)"
   ]
  },
  {
   "cell_type": "code",
   "execution_count": 176,
   "id": "7edb0ada",
   "metadata": {},
   "outputs": [
    {
     "name": "stdout",
     "output_type": "stream",
     "text": [
      "+------------+-------------------+----------------------+--------------------+--------------------+\n",
      "|ID_FORMATION| DOMAINE_CATGEGORIE|SOUS_DOMAINE_CATEGORIE|     FORMATION_COURS|            KEYWORDS|\n",
      "+------------+-------------------+----------------------+--------------------+--------------------+\n",
      "|         230|Commercial - Ventes|  Vente et négociation|L’expérience clie...|Fidélisation clie...|\n",
      "|         231|Commercial - Ventes|  Vente et négociation|Réussir sa relati...|Relation client, ...|\n",
      "|         232|Commercial - Ventes|  Vente et négociation|L'essentiel de la...|Négociation comme...|\n",
      "|         234|Commercial - Ventes|  Vente et négociation|Négociation comme...|Négociation, vent...|\n",
      "|         238|Commercial - Ventes|  Vente et négociation|Répondre à un app...|Négociation comme...|\n",
      "+------------+-------------------+----------------------+--------------------+--------------------+\n",
      "only showing top 5 rows\n",
      "\n"
     ]
    }
   ],
   "source": [
    "df.show(5)"
   ]
  },
  {
   "cell_type": "code",
   "execution_count": 177,
   "id": "4c48c009",
   "metadata": {},
   "outputs": [],
   "source": [
    "# concatenation !\n",
    "columns = df.columns\n",
    "df = df.withColumn(\"Full_Description\", concat_ws(\" \" ,*[col(c) for c in df.columns if c != \"ID_FORMATION\"]))"
   ]
  },
  {
   "cell_type": "code",
   "execution_count": 178,
   "id": "45456683",
   "metadata": {},
   "outputs": [
    {
     "name": "stdout",
     "output_type": "stream",
     "text": [
      "+--------------------------------------------------------------------------------------------------------------------------------------------------------------------------------------------------------------------------------------------------------------------------------------------------------------------------------------+\n",
      "|Full_Description                                                                                                                                                                                                                                                                                                                      |\n",
      "+--------------------------------------------------------------------------------------------------------------------------------------------------------------------------------------------------------------------------------------------------------------------------------------------------------------------------------------+\n",
      "|Commercial - Ventes Vente et négociation L’expérience client au service de la fidélisation  Fidélisation client,  expérience client, négociation commerciale, techniques de vente, relation client,  marketing relationnel,  satisfaction client,  CRM,  Salesforce, Hubspot, Zoho CRM,  Pipedrive,  Microsoft Dynamics 365,  SugarCRM|\n",
      "|Commercial - Ventes Vente et négociation Réussir sa relation de service interne  Relation client, service client, négociation commerciale, techniques de vente, fidélisation client, communication interne, management transversal,  CRM, Salesforce, Hubspot, Zoho CRM, Microsoft Dynamics 365, Pipedrive, Zendesk                   |\n",
      "+--------------------------------------------------------------------------------------------------------------------------------------------------------------------------------------------------------------------------------------------------------------------------------------------------------------------------------------+\n",
      "only showing top 2 rows\n",
      "\n"
     ]
    }
   ],
   "source": [
    "df.select(df.Full_Description).show(2,truncate=False)"
   ]
  },
  {
   "cell_type": "code",
   "execution_count": 179,
   "id": "88bcac20",
   "metadata": {},
   "outputs": [],
   "source": [
    "df = df.withColumn(\"Full_Description\", lower(df[\"Full_Description\"]))"
   ]
  },
  {
   "cell_type": "code",
   "execution_count": 180,
   "id": "5a3d48c6",
   "metadata": {},
   "outputs": [
    {
     "name": "stdout",
     "output_type": "stream",
     "text": [
      "+------------+--------------------------------------------------------------------------------------------------------------------------------------------------------------------------------------------------------------------------------------------------------------------------------------------------------------------------------------+\n",
      "|ID_FORMATION|Full_Description                                                                                                                                                                                                                                                                                                                      |\n",
      "+------------+--------------------------------------------------------------------------------------------------------------------------------------------------------------------------------------------------------------------------------------------------------------------------------------------------------------------------------------+\n",
      "|230         |commercial - ventes vente et négociation l’expérience client au service de la fidélisation  fidélisation client,  expérience client, négociation commerciale, techniques de vente, relation client,  marketing relationnel,  satisfaction client,  crm,  salesforce, hubspot, zoho crm,  pipedrive,  microsoft dynamics 365,  sugarcrm|\n",
      "|231         |commercial - ventes vente et négociation réussir sa relation de service interne  relation client, service client, négociation commerciale, techniques de vente, fidélisation client, communication interne, management transversal,  crm, salesforce, hubspot, zoho crm, microsoft dynamics 365, pipedrive, zendesk                   |\n",
      "+------------+--------------------------------------------------------------------------------------------------------------------------------------------------------------------------------------------------------------------------------------------------------------------------------------------------------------------------------------+\n",
      "only showing top 2 rows\n",
      "\n"
     ]
    }
   ],
   "source": [
    "df.select(df.ID_FORMATION ,df.Full_Description).show(2,truncate=False)"
   ]
  },
  {
   "cell_type": "code",
   "execution_count": 181,
   "id": "032e3d9f",
   "metadata": {},
   "outputs": [],
   "source": [
    "df = df.withColumn(\n",
    "    \"Full_Description\",\n",
    "    regexp_replace(\n",
    "        regexp_replace(df[\"Full_Description\"], \"[.,:-]\", \"\"),  # Supprimer les virgules, points, deux-points\n",
    "        \"\\\\s+\", \" \"  # Remplacer les espaces multiples par un seul espace\n",
    "    )\n",
    ")"
   ]
  },
  {
   "cell_type": "code",
   "execution_count": 182,
   "id": "6d1b5be3",
   "metadata": {},
   "outputs": [
    {
     "name": "stdout",
     "output_type": "stream",
     "text": [
      "+------------+--------------------------------------------------------------------------------------------------------------------------------------------------------------------------------------------------------------------------------------------------------------------------------------------------------------+\n",
      "|ID_FORMATION|Full_Description                                                                                                                                                                                                                                                                                              |\n",
      "+------------+--------------------------------------------------------------------------------------------------------------------------------------------------------------------------------------------------------------------------------------------------------------------------------------------------------------+\n",
      "|230         |commercial ventes vente et négociation l’expérience client au service de la fidélisation fidélisation client expérience client négociation commerciale techniques de vente relation client marketing relationnel satisfaction client crm salesforce hubspot zoho crm pipedrive microsoft dynamics 365 sugarcrm|\n",
      "|231         |commercial ventes vente et négociation réussir sa relation de service interne relation client service client négociation commerciale techniques de vente fidélisation client communication interne management transversal crm salesforce hubspot zoho crm microsoft dynamics 365 pipedrive zendesk            |\n",
      "+------------+--------------------------------------------------------------------------------------------------------------------------------------------------------------------------------------------------------------------------------------------------------------------------------------------------------------+\n",
      "only showing top 2 rows\n",
      "\n"
     ]
    }
   ],
   "source": [
    "df.select(df.ID_FORMATION ,df.Full_Description).show(2,truncate=False)"
   ]
  },
  {
   "cell_type": "code",
   "execution_count": 183,
   "id": "0196b2c6",
   "metadata": {},
   "outputs": [],
   "source": [
    "\n",
    "french_stopwords_nltk = stopwords.words('french')"
   ]
  },
  {
   "cell_type": "code",
   "execution_count": 184,
   "id": "41f486ef",
   "metadata": {},
   "outputs": [],
   "source": [
    "tokenizer = Tokenizer(inputCol=\"Full_Description\", outputCol=\"Tokenized_Full_Description\")\n",
    "stop_words_remover = StopWordsRemover(inputCol=\"Tokenized_Full_Description\", outputCol=\"filtered_words\", stopWords=french_stopwords_nltk)"
   ]
  },
  {
   "cell_type": "code",
   "execution_count": 185,
   "id": "402c98f8",
   "metadata": {},
   "outputs": [],
   "source": [
    "pipeline = Pipeline(stages=[tokenizer, stop_words_remover])\n",
    "model = pipeline.fit(df)\n",
    "result = model.transform(df)"
   ]
  },
  {
   "cell_type": "code",
   "execution_count": 186,
   "id": "ebad0ec5",
   "metadata": {},
   "outputs": [],
   "source": [
    "# racine de mots : stemming ! \n",
    "def stem_word(words):\n",
    "    stemmer = SnowballStemmer(\"french\")\n",
    "    if isinstance(words, list):  # Si c'est une liste\n",
    "        return [stemmer.stem(word) for word in words]  # Appliquer le stemming sur chaque mot\n",
    "    return stemmer.stem(words) if words else None  # Si ce n'est pas une liste, appliquer sur un seul mot\n",
    "stem_udf = udf(stem_word, ArrayType(elementType=StringType()))"
   ]
  },
  {
   "cell_type": "code",
   "execution_count": 187,
   "id": "7d8b3dc1",
   "metadata": {},
   "outputs": [],
   "source": [
    "result = result.withColumn(\"stemmed_words\", stem_udf(result[\"filtered_words\"]))"
   ]
  },
  {
   "cell_type": "markdown",
   "id": "de5956c0",
   "metadata": {},
   "source": [
    "##NBR OF WORDS CHOICE"
   ]
  },
  {
   "cell_type": "code",
   "execution_count": 188,
   "id": "c44edbf1",
   "metadata": {},
   "outputs": [
    {
     "name": "stderr",
     "output_type": "stream",
     "text": [
      "[Stage 81:>                                                         (0 + 1) / 1]\r"
     ]
    },
    {
     "name": "stdout",
     "output_type": "stream",
     "text": [
      "Nombre de termes uniques : 3527\n"
     ]
    },
    {
     "name": "stderr",
     "output_type": "stream",
     "text": [
      "                                                                                \r"
     ]
    }
   ],
   "source": [
    "from pyspark.sql.functions import explode, split\n",
    "\n",
    "# Diviser les mots et compter les termes uniques\n",
    "word_count = result.select(explode(result[\"stemmed_words\"]).alias(\"word\")) \\\n",
    "               .groupBy(\"word\") \\\n",
    "               .count() \\\n",
    "               .orderBy(\"count\", ascending=False)\n",
    "\n",
    "# Nombre de termes uniques\n",
    "num_unique_terms = word_count.count()\n",
    "print(\"Nombre de termes uniques :\", num_unique_terms)"
   ]
  },
  {
   "cell_type": "code",
   "execution_count": 189,
   "id": "b1418df9",
   "metadata": {},
   "outputs": [
    {
     "name": "stderr",
     "output_type": "stream",
     "text": [
      "[Stage 87:>                                                         (0 + 1) / 1]\r"
     ]
    },
    {
     "name": "stdout",
     "output_type": "stream",
     "text": [
      "+-------------+-----+\n",
      "|         word|count|\n",
      "+-------------+-----+\n",
      "|      gestion| 2162|\n",
      "|       commun| 1463|\n",
      "|    marketing| 1324|\n",
      "|      digital| 1261|\n",
      "|        manag| 1208|\n",
      "|       projet|  987|\n",
      "|      maîtris|  969|\n",
      "|      travail|  935|\n",
      "|professionnel|  848|\n",
      "|     développ|  835|\n",
      "|     collabor|  771|\n",
      "|       public|  761|\n",
      "|       format|  728|\n",
      "|        outil|  728|\n",
      "|       social|  699|\n",
      "|        googl|  681|\n",
      "|    personnel|  622|\n",
      "|      publiqu|  612|\n",
      "|      perform|  575|\n",
      "|      efficac|  573|\n",
      "+-------------+-----+\n",
      "only showing top 20 rows\n",
      "\n"
     ]
    },
    {
     "name": "stderr",
     "output_type": "stream",
     "text": [
      "                                                                                \r"
     ]
    }
   ],
   "source": [
    "word_count.show(20)"
   ]
  },
  {
   "cell_type": "code",
   "execution_count": 190,
   "id": "ef7f93c5",
   "metadata": {},
   "outputs": [],
   "source": [
    "#applying the tfidf\n",
    "hashing_tf = HashingTF(inputCol=\"stemmed_words\", outputCol=\"raw_features\", numFeatures=1600)\n",
    "idf = IDF(inputCol=\"raw_features\", outputCol=\"features\")"
   ]
  },
  {
   "cell_type": "code",
   "execution_count": 191,
   "id": "a2bac97d",
   "metadata": {},
   "outputs": [
    {
     "name": "stderr",
     "output_type": "stream",
     "text": [
      "                                                                                \r"
     ]
    }
   ],
   "source": [
    "pipeline = Pipeline(stages=[hashing_tf, idf])\n",
    "model = pipeline.fit(result)\n",
    "result = model.transform(result)"
   ]
  },
  {
   "cell_type": "code",
   "execution_count": 206,
   "id": "1a83eec2",
   "metadata": {},
   "outputs": [
    {
     "name": "stderr",
     "output_type": "stream",
     "text": [
      "[Stage 108:>                                                        (0 + 1) / 1]\r"
     ]
    },
    {
     "name": "stdout",
     "output_type": "stream",
     "text": [
      "+------------+----------------------------------------------------------------------------------------------------------------------------------------------------------------------------------------------------------------------------------------------------------------------------------------------------------------------------------------------------------------------------------------------------------------------------------------------------------------------------------------------------------------------------------------------------------------------------------------------------------------------------+\n",
      "|ID_FORMATION|features                                                                                                                                                                                                                                                                                                                                                                                                                                                                                                                                                                                                                    |\n",
      "+------------+----------------------------------------------------------------------------------------------------------------------------------------------------------------------------------------------------------------------------------------------------------------------------------------------------------------------------------------------------------------------------------------------------------------------------------------------------------------------------------------------------------------------------------------------------------------------------------------------------------------------------+\n",
      "|1           |(1600,[324,333,380,386,456,489,573,638,698,765,844,951,973,1032,1078,1103,1133,1187,1210,1270,1283,1367,1379,1488],[2.2436319359552774,3.5898480735077576,3.3385336452268515,1.1713865231279101,4.2829952540677025,3.316554738508076,4.947971557660952,2.708444600634043,1.729095732792751,3.5478838744087255,2.232541249261119,3.233173129569025,4.793820877833694,2.2288715203721567,1.625737219805598,2.095340127747634,13.87558185236038,3.184382965399593,4.506138805381912,0.5284618297323297,1.3310656031721049,4.311982790940955,2.530075618155912,4.054153681638855])                                              |\n",
      "|10          |(1600,[88,132,142,333,443,456,492,518,638,692,765,844,1012,1032,1078,1133,1187,1210,1270,1283,1298,1367,1379,1488],[3.468895463090095,2.251094657156867,3.6042368109598573,3.5898480735077576,3.084753124450752,4.2829952540677025,4.2829952540677025,1.5961200501019515,2.708444600634043,4.6194674906889155,3.5478838744087255,8.930164997044477,13.740740332606904,2.2288715203721567,1.625737219805598,10.406686389270284,3.184382965399593,4.506138805381912,0.5284618297323297,1.3310656031721049,1.6541944246196334,4.311982790940955,2.530075618155912,4.054153681638855])                                          |\n",
      "|100         |(1600,[43,246,254,330,373,390,478,496,542,582,719,755,766,861,986,1052,1078,1103,1239,1243,1270,1319,1395,1545],[3.1655144810952103,3.61883561038101,4.14946386144318,4.009701919068021,3.8310101303246458,3.6336506961661503,3.988195713847058,2.6072346987025297,12.682276208738678,5.765032515911711,2.5202233217129,4.341835754090636,2.2699988117960195,4.947971557660952,4.4371459338949615,3.2036143273274806,1.625737219805598,4.190680255495268,7.145196134997171,4.227425402912893,1.0569236594646594,5.4287586723077155,4.471047485570643,12.904097908874451])                                                   |\n",
      "|1000        |(1600,[45,166,272,330,375,386,576,628,638,688,981,1048,1065,1082,1101,1187,1200,1266,1283,1298,1310,1362,1435,1511,1538,1567],[3.456316680883235,4.702849099627967,5.257714325431391,4.009701919068021,1.9861408357826422,2.3427730462558203,6.5689328479131515,5.452711054401147,2.708444600634043,4.471047485570643,4.17478166942747,3.7779003050106974,3.561677196541061,6.293990866655946,4.488665690507895,3.184382965399593,2.0889503296488634,19.840779067281602,1.3310656031721049,1.6541944246196334,3.7952920477225662,3.695208589165584,2.196436244619003,2.769439113336885,7.320541842118091,3.067658691091452])|\n",
      "|1001        |(1600,[55,68,272,330,386,576,584,628,840,981,1048,1063,1065,1082,1101,1108,1187,1266,1298,1362,1426,1435,1538,1567],[6.312424176865794,5.793401785895624,5.257714325431391,8.019403838136043,2.3427730462558203,6.5689328479131515,3.648688573530691,5.452711054401147,3.36100650107891,4.17478166942747,3.7779003050106974,4.6194674906889155,3.561677196541061,3.146995433327973,5.98488758734386,3.443894160884678,3.184382965399593,11.33758803844663,3.308388849239267,3.695208589165584,1.8468787684491346,4.392872489238006,4.880361228078727,3.067658691091452])                                                    |\n",
      "|1002        |(1600,[24,26,55,284,355,386,522,759,849,881,952,954,981,1082,1101,1115,1167,1186,1187,1266,1298,1307,1410,1421,1538],[2.896700892947812,1.316250517386964,3.156212088432897,3.3839960193036087,2.8013907131434874,2.3427730462558203,4.666023559249507,2.9941562290985253,5.75890177387728,5.75890177387728,4.893904336390676,4.077143199863554,4.17478166942747,6.293990866655946,4.488665690507895,6.228905403123016,4.506138805381912,3.6042368109598573,3.184382965399593,5.668794019223315,1.6541944246196334,6.228905403123016,3.7112089305120253,6.452048954437226,4.880361228078727])                               |\n",
      "|1003        |(1600,[363,386,522,527,576,628,700,800,857,931,981,1070,1082,1101,1184,1266,1270,1334,1435,1463,1500,1515,1538,1593],[3.1655144810952103,1.1713865231279101,4.666023559249507,2.8616095731365423,3.2844664239565757,2.7263555272005733,2.481757040885104,3.2844664239565757,13.054529348214935,3.443894160884678,4.17478166942747,2.807905394164681,3.146995433327973,4.488665690507895,2.6343366284803214,5.668794019223315,0.5284618297323297,4.054153681638855,2.196436244619003,4.2829952540677025,2.2071315337357507,2.889583425178948,2.4401806140393636,2.092140125016963])                                          |\n",
      "|1004        |(1600,[45,252,272,375,386,486,494,576,584,628,676,790,919,1048,1065,1082,1101,1103,1187,1217,1266,1298,1362,1435,1538],[3.456316680883235,3.561677196541061,5.257714325431391,1.9861408357826422,2.3427730462558203,0.9305880365749795,3.316554738508076,6.5689328479131515,3.648688573530691,2.7263555272005733,2.4002640066339214,1.726875976054438,3.695208589165584,3.7779003050106974,3.561677196541061,6.293990866655946,5.98488758734386,2.095340127747634,3.184382965399593,6.228905403123016,5.668794019223315,1.6541944246196334,3.695208589165584,2.196436244619003,4.880361228078727])                          |\n",
      "|1005        |(1600,[45,127,272,386,576,628,638,675,698,981,1048,1065,1082,1101,1133,1187,1209,1266,1298,1362,1435,1463,1538],[3.456316680883235,6.452048954437226,5.257714325431391,1.1713865231279101,3.2844664239565757,2.7263555272005733,2.708444600634043,3.2950485332871127,3.458191465585502,4.17478166942747,3.7779003050106974,3.561677196541061,3.146995433327973,5.98488758734386,6.93779092618019,3.184382965399593,3.7608058716513972,5.668794019223315,1.6541944246196334,3.695208589165584,2.196436244619003,4.2829952540677025,4.880361228078727])                                                                       |\n",
      "|1006        |(1600,[45,158,272,339,386,576,584,628,773,780,985,1053,1065,1082,1101,1103,1187,1266,1298,1310,1362,1435,1538],[3.456316680883235,4.200757155830731,5.257714325431391,3.5478838744087255,2.3427730462558203,3.2844664239565757,3.648688573530691,2.7263555272005733,2.6288571627156956,6.887788321769356,5.668794019223315,4.17478166942747,3.561677196541061,3.146995433327973,5.98488758734386,2.095340127747634,3.184382965399593,17.006382057669946,1.6541944246196334,3.7952920477225662,3.695208589165584,2.196436244619003,7.320541842118091])                                                                       |\n",
      "+------------+----------------------------------------------------------------------------------------------------------------------------------------------------------------------------------------------------------------------------------------------------------------------------------------------------------------------------------------------------------------------------------------------------------------------------------------------------------------------------------------------------------------------------------------------------------------------------------------------------------------------------+\n",
      "only showing top 10 rows\n",
      "\n"
     ]
    },
    {
     "name": "stderr",
     "output_type": "stream",
     "text": [
      "                                                                                \r"
     ]
    }
   ],
   "source": [
    "result.select(result.ID_FORMATION, result.features).sort(\"ID_FORMATION\").show(10, truncate=False)"
   ]
  },
  {
   "cell_type": "code",
   "execution_count": 82,
   "id": "d69fa700",
   "metadata": {},
   "outputs": [],
   "source": []
  },
  {
   "cell_type": "code",
   "execution_count": 83,
   "id": "03aa2464",
   "metadata": {},
   "outputs": [
    {
     "name": "stdout",
     "output_type": "stream",
     "text": [
      "['au', 'aux', 'avec', 'ce', 'ces', 'dans', 'de', 'des', 'du', 'elle', 'en', 'et', 'eux', 'il', 'ils', 'je', 'la', 'le', 'les', 'leur', 'lui', 'ma', 'mais', 'me', 'même', 'mes', 'moi', 'mon', 'ne', 'nos', 'notre', 'nous', 'on', 'ou', 'par', 'pas', 'pour', 'qu', 'que', 'qui', 'sa', 'se', 'ses', 'son', 'sur', 'ta', 'te', 'tes', 'toi', 'ton', 'tu', 'un', 'une', 'vos', 'votre', 'vous', 'c', 'd', 'j', 'l', 'à', 'm', 'n', 's', 't', 'y', 'été', 'étée', 'étées', 'étés', 'étant', 'étante', 'étants', 'étantes', 'suis', 'es', 'est', 'sommes', 'êtes', 'sont', 'serai', 'seras', 'sera', 'serons', 'serez', 'seront', 'serais', 'serait', 'serions', 'seriez', 'seraient', 'étais', 'était', 'étions', 'étiez', 'étaient', 'fus', 'fut', 'fûmes', 'fûtes', 'furent', 'sois', 'soit', 'soyons', 'soyez', 'soient', 'fusse', 'fusses', 'fût', 'fussions', 'fussiez', 'fussent', 'ayant', 'ayante', 'ayantes', 'ayants', 'eu', 'eue', 'eues', 'eus', 'ai', 'as', 'avons', 'avez', 'ont', 'aurai', 'auras', 'aura', 'aurons', 'aurez', 'auront', 'aurais', 'aurait', 'aurions', 'auriez', 'auraient', 'avais', 'avait', 'avions', 'aviez', 'avaient', 'eut', 'eûmes', 'eûtes', 'eurent', 'aie', 'aies', 'ait', 'ayons', 'ayez', 'aient', 'eusse', 'eusses', 'eût', 'eussions', 'eussiez', 'eussent']\n"
     ]
    }
   ],
   "source": []
  }
 ],
 "metadata": {
  "kernelspec": {
   "display_name": "3.12",
   "language": "python",
   "name": "python3"
  },
  "language_info": {
   "codemirror_mode": {
    "name": "ipython",
    "version": 3
   },
   "file_extension": ".py",
   "mimetype": "text/x-python",
   "name": "python",
   "nbconvert_exporter": "python",
   "pygments_lexer": "ipython3",
   "version": "3.12.4"
  }
 },
 "nbformat": 4,
 "nbformat_minor": 5
}
